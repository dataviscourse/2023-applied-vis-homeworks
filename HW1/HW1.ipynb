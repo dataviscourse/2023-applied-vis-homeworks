{
 "cells": [
  {
   "cell_type": "markdown",
   "metadata": {},
   "source": [
    "# Applied Data Visualization - Homework 1\n",
    "*COMP 5960 https://www.dataviscourse.net/2023-applied/*"
   ]
  },
  {
   "cell_type": "markdown",
   "metadata": {},
   "source": [
    "In this homework, you will review and visualize data from the Utah Avalanche Center https://utahavalanchecenter.org/observations"
   ]
  },
  {
   "cell_type": "markdown",
   "metadata": {},
   "source": [
    "# Your info\n",
    "\n",
    "*First name:*\n",
    "\n",
    "*Last name:*\n",
    "\n",
    "*Email:*\n",
    "\n",
    "*UID*"
   ]
  },
  {
   "cell_type": "code",
   "execution_count": 1,
   "metadata": {},
   "outputs": [],
   "source": [
    "import pandas as pd\n",
    "import matplotlib.pyplot as plt\n",
    "plt.style.use('ggplot')\n",
    "%matplotlib inline"
   ]
  },
  {
   "attachments": {},
   "cell_type": "markdown",
   "metadata": {},
   "source": [
    "## Part 1: Load in data\n",
    "\n",
    "Load in the provided file `avalanches.csv` using the Pandas `read_csv` function.\n",
    "\n",
    "Print a couple of rows to get a sense of the data."
   ]
  },
  {
   "cell_type": "code",
   "execution_count": null,
   "metadata": {},
   "outputs": [],
   "source": []
  },
  {
   "attachments": {},
   "cell_type": "markdown",
   "metadata": {},
   "source": [
    "## Part 2: Clean dates\n",
    "\n",
    "You may notice that the dates of avalanches are provided in the `Date` column, however they are encoded as a string.\n",
    "\n",
    "Additionally, we may want to analyze avalanches by year and by month, so let's create separate columns for those.\n",
    "\n",
    "1. Convert the Date column to datetime format\n",
    "2. Create a new column Year\n",
    "3. Create a new column Month"
   ]
  },
  {
   "cell_type": "code",
   "execution_count": null,
   "metadata": {},
   "outputs": [],
   "source": []
  },
  {
   "attachments": {},
   "cell_type": "markdown",
   "metadata": {},
   "source": [
    "## Part 3: Clean numbers\n",
    "\n",
    "You may also notice that numerical columns (`Elevation`, `Depth`, `Width`, `Vertical`) are also encoded as strings. Moreover, some are in feet ('), while others are in inches (\")."
   ]
  },
  {
   "attachments": {},
   "cell_type": "markdown",
   "metadata": {},
   "source": [
    "1. Create a new column Elevation_Feet, with the Elevation column converted to a number, in feet"
   ]
  },
  {
   "cell_type": "code",
   "execution_count": null,
   "metadata": {},
   "outputs": [],
   "source": []
  },
  {
   "attachments": {},
   "cell_type": "markdown",
   "metadata": {},
   "source": [
    "2. Create a new column Depth_Inches, with the Depth column converted to a number, in inches\n",
    "3. Create a new column Width_Inches, with the Width column converted to a number, in inches\n",
    "4. Create a new column Vertical_Inches, with the Vertical column converted to a number, in inches"
   ]
  },
  {
   "cell_type": "code",
   "execution_count": null,
   "metadata": {},
   "outputs": [],
   "source": []
  },
  {
   "cell_type": "markdown",
   "metadata": {},
   "source": [
    "## Part 4: Plotting"
   ]
  },
  {
   "attachments": {},
   "cell_type": "markdown",
   "metadata": {},
   "source": [
    "1. Plot a histogram of the Depth_Inches variable"
   ]
  },
  {
   "cell_type": "code",
   "execution_count": null,
   "metadata": {},
   "outputs": [],
   "source": []
  },
  {
   "attachments": {},
   "cell_type": "markdown",
   "metadata": {},
   "source": [
    "2. Plot a histogram of the elevation in feet variable"
   ]
  },
  {
   "cell_type": "code",
   "execution_count": null,
   "metadata": {},
   "outputs": [],
   "source": []
  },
  {
   "attachments": {},
   "cell_type": "markdown",
   "metadata": {},
   "source": [
    "3. Plot a bar chart of the number of avalances by year\n",
    "\n",
    "(Hint: You may find it useful to create a separate data frame, grouped by year.)"
   ]
  },
  {
   "cell_type": "code",
   "execution_count": null,
   "metadata": {},
   "outputs": [],
   "source": []
  },
  {
   "attachments": {},
   "cell_type": "markdown",
   "metadata": {},
   "source": [
    "Hmm, it looks like the Utah Avalanche Center does not have complete data for earlier years. Let's filter them out to see the barchart more clearly"
   ]
  },
  {
   "cell_type": "code",
   "execution_count": null,
   "metadata": {},
   "outputs": [],
   "source": []
  },
  {
   "attachments": {},
   "cell_type": "markdown",
   "metadata": {},
   "source": [
    "4. Create a barchart of the number of avalanches per month\n",
    "\n",
    "(Hint: You may find it useful to create a separate data frame, grouped by month.)"
   ]
  },
  {
   "cell_type": "code",
   "execution_count": null,
   "metadata": {},
   "outputs": [],
   "source": []
  },
  {
   "attachments": {},
   "cell_type": "markdown",
   "metadata": {},
   "source": [
    "5. Create a boxplot of the elevation of avalances by month"
   ]
  },
  {
   "cell_type": "code",
   "execution_count": null,
   "metadata": {},
   "outputs": [],
   "source": []
  },
  {
   "attachments": {},
   "cell_type": "markdown",
   "metadata": {},
   "source": [
    "6. Create a horizontal barchart of the number of avalanches by trigger\n",
    "\n",
    "(Hint: You may find it useful to create a separate data frame, grouped by trigger.)"
   ]
  },
  {
   "cell_type": "code",
   "execution_count": null,
   "metadata": {},
   "outputs": [],
   "source": []
  },
  {
   "attachments": {},
   "cell_type": "markdown",
   "metadata": {},
   "source": [
    "7. Create a boxplot of the depth of avalances by trigger"
   ]
  },
  {
   "cell_type": "code",
   "execution_count": null,
   "metadata": {},
   "outputs": [],
   "source": []
  },
  {
   "attachments": {},
   "cell_type": "markdown",
   "metadata": {},
   "source": [
    "# Part 5: What did we learn?\n",
    "- What does the distribution of avalanche depths and elevations look like? Describe in words.\n",
    "- What year had the most avalanches? How many?\n",
    "- What month had the most avalanches? How many?\n",
    "- What month gets the highest elevation avalanches? How many feet, on average?\n",
    "- What is the most common avalanche trigger?\n",
    "- What avalanche trigger yields the deepest avalanches? How many inches deep, on average?"
   ]
  },
  {
   "cell_type": "markdown",
   "metadata": {},
   "source": []
  }
 ],
 "metadata": {
  "kernelspec": {
   "display_name": "Python 3",
   "language": "python",
   "name": "python3"
  },
  "language_info": {
   "codemirror_mode": {
    "name": "ipython",
    "version": 3
   },
   "file_extension": ".py",
   "mimetype": "text/x-python",
   "name": "python",
   "nbconvert_exporter": "python",
   "pygments_lexer": "ipython3",
   "version": "3.8.5"
  },
  "orig_nbformat": 4
 },
 "nbformat": 4,
 "nbformat_minor": 2
}
